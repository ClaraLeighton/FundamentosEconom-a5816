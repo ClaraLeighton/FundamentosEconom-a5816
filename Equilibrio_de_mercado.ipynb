{
  "nbformat": 4,
  "nbformat_minor": 0,
  "metadata": {
    "colab": {
      "name": "Equilibrio de mercado.ipynb",
      "provenance": [],
      "collapsed_sections": [],
      "authorship_tag": "ABX9TyPCc7NjV/5q7ZvMdvVJMsws",
      "include_colab_link": true
    },
    "kernelspec": {
      "name": "python3",
      "display_name": "Python 3"
    },
    "language_info": {
      "name": "python"
    }
  },
  "cells": [
    {
      "cell_type": "markdown",
      "metadata": {
        "id": "view-in-github",
        "colab_type": "text"
      },
      "source": [
        "<a href=\"https://colab.research.google.com/github/ClaraLeighton/FundamentosEconom-a5816/blob/main/Equilibrio_de_mercado.ipynb\" target=\"_parent\"><img src=\"https://colab.research.google.com/assets/colab-badge.svg\" alt=\"Open In Colab\"/></a>"
      ]
    },
    {
      "cell_type": "code",
      "execution_count": 1,
      "metadata": {
        "id": "eNrUYMcTP1Il"
      },
      "outputs": [],
      "source": [
        "class mercado:\n",
        "\n",
        "    def __init__(self, DAPmax, COmin, d, s):\n",
        "\n",
        "        self.DAPmax, self.COmin, self.d, self.s = DAPmax, COmin, d, s\n",
        "        \n",
        "        if DAPmax < COmin:\n",
        "            raise ValueError('Demanda insuficiente.')\n",
        "\n",
        "    def cantidad_equilibrio(self):\n",
        "        \"Cálculo cantidad de equilibrio\"\n",
        "        return  (self.DAPmax - self.COmin)/(self.d + self.s)\n",
        "\n",
        "    def precio_equilibrio(self):\n",
        "        \"Cálculo cantidad de equilibrio\"\n",
        "        return  self.DAPmax - self.d * self.cantidad_equilibrio()\n",
        "\n",
        "    def excedente_consumidor(self):\n",
        "        \"Cálculo excedente consumidor\"\n",
        "        return (self.DAPmax - self.precio_equilibrio())*self.cantidad_equilibrio()/2\n",
        "\n",
        "    def excedente_productor(self):\n",
        "        \"Cálculo excedente productor\"\n",
        "        return (self.precio_equilibrio() - self.COmin) * self.cantidad_equilibrio() /2\n",
        "\n",
        "    def excedente_total(self):\n",
        "        \"Cálculo excedente total\"\n",
        "        return self.excedente_productor() + self.excedente_consumidor()\n",
        "    \n",
        "    def demanda(self,x):\n",
        "        \"Función demanda\"\n",
        "        return self.DAPmax - self.d*x\n",
        "        \n",
        "    def oferta(self,x):\n",
        "        \"Función oferta\"\n",
        "        return self.COmin + self.s*x"
      ]
    },
    {
      "cell_type": "code",
      "source": [
        "import numpy as np\n",
        "import matplotlib.pyplot as plt\n",
        "%matplotlib inline\n",
        "\n",
        "# Parámetros iniciales DAPmax, COmin, d, s\n",
        "params_ini = 31.25,9.58,1,5.15\n",
        "m = mercado(*params_ini)\n",
        "\n",
        "q_max = m.cantidad_equilibrio() * 2\n",
        "q_grid = np.linspace(0.0, q_max, 100)\n",
        "pd = m.demanda(q_grid)\n",
        "ps = m.oferta(q_grid)\n",
        "\n",
        "fig, ax = plt.subplots()\n",
        "ax.plot(q_grid, pd, lw=2, alpha=0.6, label='demanda')\n",
        "ax.plot(q_grid, ps, lw=2, alpha=0.6, label='oferta')\n",
        "ax.set_xlabel('cantidad', fontsize=14)\n",
        "ax.set_xlim(0, q_max)\n",
        "ax.set_ylabel('precio', fontsize=14)\n",
        "ax.legend(loc='lower right', frameon=False, fontsize=14)\n",
        "ax.set(title='Oferta, Demanda y Equilibrio de mercados')\n",
        "plt.show()"
      ],
      "metadata": {
        "colab": {
          "base_uri": "https://localhost:8080/",
          "height": 299
        },
        "id": "IF3yNX8PSAj-",
        "outputId": "25d91ead-4fe4-4096-c74a-3930a01e04a9"
      },
      "execution_count": 2,
      "outputs": [
        {
          "output_type": "display_data",
          "data": {
            "text/plain": [
              "<Figure size 432x288 with 1 Axes>"
            ],
            "image/png": "[encoded data removed]"
          },
          "metadata": {
            "needs_background": "light"
          }
        }
      ]
    },
    {
      "cell_type": "code",
      "source": [
        "import numpy as np\n",
        "import matplotlib.pyplot as plt\n",
        "%matplotlib inline\n",
        "\n",
        "# Baseline DAPmax, COmin, d, s\n",
        "params_ini = 31,10,1,5\n",
        "m = mercado(*params_ini)\n",
        "\n",
        "print(\"Excedente productor =\",m.excedente_productor())\n",
        "print(\"Excedente consumidor =\",m.excedente_consumidor())\n",
        "print(\"Excedente total =\",m.excedente_total())\n",
        "print(\"Cantidad de equilibrio =\",m.cantidad_equilibrio())\n",
        "print(\"Precio de equilibrio =\",m.precio_equilibrio())"
      ],
      "metadata": {
        "colab": {
          "base_uri": "https://localhost:8080/"
        },
        "id": "OLQOLsecSOa7",
        "outputId": "a41dece1-a08b-4699-bbed-4849428a022d"
      },
      "execution_count": 3,
      "outputs": [
        {
          "output_type": "stream",
          "name": "stdout",
          "text": [
            "Excedente productor = 30.625\n",
            "Excedente consumidor = 6.125\n",
            "Excedente total = 36.75\n",
            "Cantidad de equilibrio = 3.5\n",
            "Precio de equilibrio = 27.5\n"
          ]
        }
      ]
    }
  ]
}